{
 "cells": [
  {
   "cell_type": "markdown",
   "id": "b625b16e-b9f4-4aed-9fc8-3cd54ff1f819",
   "metadata": {},
   "source": [
    "Стандартная атмосфера\n",
    "---\n",
    "Формулы для вычисления стандартной атмосферы"
   ]
  },
  {
   "cell_type": "markdown",
   "id": "4a99aca1-7bbc-4cea-b006-c90e2a322f36",
   "metadata": {
    "tags": []
   },
   "source": [
    "Исходные данные, для выполнения работы.\n",
    "В коментах написано что за что отвечает.\n",
    "Менять переменные нужно только в блоке ниже, все остальное уже зависит от них"
   ]
  },
  {
   "cell_type": "code",
   "execution_count": 6,
   "id": "73345ded-bc3f-4c70-aa74-aef3a767c392",
   "metadata": {
    "tags": []
   },
   "outputs": [],
   "source": [
    "# Отклонение от стандартной атмосферы\n",
    "H = 2000\n",
    "detT = 15"
   ]
  },
  {
   "cell_type": "markdown",
   "id": "4562027c-2d3b-4656-934f-9a173a9ca208",
   "metadata": {},
   "source": [
    "Константы для вычислений"
   ]
  },
  {
   "cell_type": "code",
   "execution_count": 7,
   "id": "576fabfd-5ce9-47b7-8613-bd082fc563ef",
   "metadata": {},
   "outputs": [],
   "source": [
    "g0 = 9.80665\n",
    "R = 287.05287\n",
    "PR = 10.1972"
   ]
  },
  {
   "cell_type": "markdown",
   "id": "5fd5b54e",
   "metadata": {},
   "source": [
    "Импорты для работы и функции для асиста"
   ]
  },
  {
   "cell_type": "code",
   "execution_count": 8,
   "id": "fabf003d",
   "metadata": {},
   "outputs": [],
   "source": [
    "import pandas as pd"
   ]
  },
  {
   "cell_type": "markdown",
   "id": "8cababf7-ffbf-428c-b095-db80329d1bc8",
   "metadata": {},
   "source": [
    "Таблицы с коэфициентами\n",
    "(Функции, выдающие нам нужные для рассчетов значения, в зависимости от исходных данных)"
   ]
  },
  {
   "cell_type": "code",
   "execution_count": 9,
   "id": "dfec8aea-276c-442e-962f-3759484b66d4",
   "metadata": {},
   "outputs": [
    {
     "data": {
      "text/html": [
       "<div>\n",
       "<style scoped>\n",
       "    .dataframe tbody tr th:only-of-type {\n",
       "        vertical-align: middle;\n",
       "    }\n",
       "\n",
       "    .dataframe tbody tr th {\n",
       "        vertical-align: top;\n",
       "    }\n",
       "\n",
       "    .dataframe thead th {\n",
       "        text-align: right;\n",
       "    }\n",
       "</style>\n",
       "<table border=\"1\" class=\"dataframe\">\n",
       "  <thead>\n",
       "    <tr style=\"text-align: right;\">\n",
       "      <th></th>\n",
       "      <th>Параметр</th>\n",
       "      <th>Hg &lt; 11000</th>\n",
       "      <th>11000 &lt;= Hg &lt; 20000</th>\n",
       "      <th>20000 &lt;= Hg</th>\n",
       "    </tr>\n",
       "  </thead>\n",
       "  <tbody>\n",
       "    <tr>\n",
       "      <th>0</th>\n",
       "      <td>Hg 0</td>\n",
       "      <td>0.0000</td>\n",
       "      <td>11000.00</td>\n",
       "      <td>20000.0000</td>\n",
       "    </tr>\n",
       "    <tr>\n",
       "      <th>1</th>\n",
       "      <td>T 0</td>\n",
       "      <td>288.1500</td>\n",
       "      <td>216.65</td>\n",
       "      <td>216.6500</td>\n",
       "    </tr>\n",
       "    <tr>\n",
       "      <th>2</th>\n",
       "      <td>P 0</td>\n",
       "      <td>1013.2500</td>\n",
       "      <td>226.32</td>\n",
       "      <td>54.7487</td>\n",
       "    </tr>\n",
       "    <tr>\n",
       "      <th>3</th>\n",
       "      <td>B 0</td>\n",
       "      <td>-0.0065</td>\n",
       "      <td>0.00</td>\n",
       "      <td>0.0010</td>\n",
       "    </tr>\n",
       "  </tbody>\n",
       "</table>\n",
       "</div>"
      ],
      "text/plain": [
       "  Параметр  Hg < 11000  11000 <= Hg < 20000  20000 <= Hg \n",
       "0     Hg 0      0.0000             11000.00    20000.0000\n",
       "1      T 0    288.1500               216.65      216.6500\n",
       "2      P 0   1013.2500               226.32       54.7487\n",
       "3      B 0     -0.0065                 0.00        0.0010"
      ]
     },
     "execution_count": 9,
     "metadata": {},
     "output_type": "execute_result"
    }
   ],
   "source": [
    "def hg0(hg):\n",
    "    if (0 <= hg and hg < 11000.0): return 0.0\n",
    "    if (11000.0 <= hg and hg < 20000.0): return 11000.0\n",
    "    if (20000.0 <= hg): return 20000.0\n",
    "\n",
    "def t0(hg):\n",
    "    if (0 <= hg and hg < 11000.0): return 288.15\n",
    "    if (11000.0 <= hg and hg < 20000.0): return 216.65\n",
    "    if (20000.0 <= hg): return 216.65\n",
    "\n",
    "def p0(hg):\n",
    "    if (0 <= hg and hg < 11000.0): return 1013.25\n",
    "    if (11000.0 <= hg and hg < 20000.0): return 226.32\n",
    "    if (20000.0 <= hg): return 54.7487\n",
    "\n",
    "\n",
    "def b0(hg):\n",
    "    if (0 <= hg and hg < 11000.0): return -0.0065\n",
    "    if (11000.0 <= hg and hg < 20000.0): return 0.0\n",
    "    if (20000.0 <= hg): return 0.001\n",
    "\n",
    "pd.DataFrame([\n",
    "    [\"Hg 0\", hg0(0), hg0(15000), hg0(30000)],\n",
    "    [\"T 0\", t0(0), t0(15000), t0(30000)],\n",
    "    [\"P 0\", p0(0), p0(15000), p0(30000)],\n",
    "    [\"B 0\", b0(0), b0(15000), b0(30000)],], \n",
    "    columns=[\"Параметр\", \"Hg < 11000\", \"11000 <= Hg < 20000\", \"20000 <= Hg \"],\n",
    ")"
   ]
  },
  {
   "cell_type": "markdown",
   "id": "6c0ab110-a454-43ae-b682-ecc60e5ac13d",
   "metadata": {},
   "source": [
    "Вычисление параметров стандартной атмосферы\n",
    "---\n",
    "Под этим блоком выводятся все необходимые данные по атмосфере"
   ]
  },
  {
   "cell_type": "code",
   "execution_count": 10,
   "id": "6e6b045f-a807-40b7-884a-a206f731ecc2",
   "metadata": {},
   "outputs": [
    {
     "data": {
      "text/html": [
       "<div>\n",
       "<style scoped>\n",
       "    .dataframe tbody tr th:only-of-type {\n",
       "        vertical-align: middle;\n",
       "    }\n",
       "\n",
       "    .dataframe tbody tr th {\n",
       "        vertical-align: top;\n",
       "    }\n",
       "\n",
       "    .dataframe thead th {\n",
       "        text-align: right;\n",
       "    }\n",
       "</style>\n",
       "<table border=\"1\" class=\"dataframe\">\n",
       "  <thead>\n",
       "    <tr style=\"text-align: right;\">\n",
       "      <th></th>\n",
       "      <th>H</th>\n",
       "      <th>detT</th>\n",
       "      <th>hg</th>\n",
       "      <th>detH</th>\n",
       "      <th>T</th>\n",
       "      <th>P</th>\n",
       "      <th>ro</th>\n",
       "      <th>a</th>\n",
       "    </tr>\n",
       "  </thead>\n",
       "  <tbody>\n",
       "    <tr>\n",
       "      <th>0</th>\n",
       "      <td>2000</td>\n",
       "      <td>15</td>\n",
       "      <td>1999.370947</td>\n",
       "      <td>1999.370947</td>\n",
       "      <td>290.154089</td>\n",
       "      <td>795.014111</td>\n",
       "      <td>0.097334</td>\n",
       "      <td>341.475318</td>\n",
       "    </tr>\n",
       "  </tbody>\n",
       "</table>\n",
       "</div>"
      ],
      "text/plain": [
       "      H  detT           hg         detH           T           P        ro  \\\n",
       "0  2000    15  1999.370947  1999.370947  290.154089  795.014111  0.097334   \n",
       "\n",
       "            a  \n",
       "0  341.475318  "
      ]
     },
     "execution_count": 10,
     "metadata": {},
     "output_type": "execute_result"
    }
   ],
   "source": [
    "from math import *\n",
    "\n",
    "hg = (6356766.0 * H) / (6356766.0 + H)\n",
    "detH = hg - hg0(hg)\n",
    "T = t0(hg) + b0(hg)*detH + detT\n",
    "P = p0(hg) * exp((-g0 * detH) / (R * t0(hg))) if (11000.0 <= hg and hg < 20000.0 ) else p0(hg)* pow(1 + b0(hg)/t0(hg)*detH, -g0 /(b0(hg)* R))\n",
    "ro = (P * PR) / (R * T)\n",
    "a = 20.046796 * sqrt(T)\n",
    "\n",
    "pd.DataFrame([[H, detT, hg, detH, T, P, ro, a]], columns=[\"H\", \"detT\", \"hg\", \"detH\", \"T\", \"P\", \"ro\", \"a\"])"
   ]
  }
 ],
 "metadata": {
  "interpreter": {
   "hash": "aee8b7b246df8f9039afb4144a1f6fd8d2ca17a180786b69acc140d282b71a49"
  },
  "kernelspec": {
   "display_name": "Python 3.9.5 64-bit",
   "language": "python",
   "name": "python3"
  },
  "language_info": {
   "codemirror_mode": {
    "name": "ipython",
    "version": 3
   },
   "file_extension": ".py",
   "mimetype": "text/x-python",
   "name": "python",
   "nbconvert_exporter": "python",
   "pygments_lexer": "ipython3",
   "version": "3.9.5"
  },
  "orig_nbformat": 4
 },
 "nbformat": 4,
 "nbformat_minor": 2
}
